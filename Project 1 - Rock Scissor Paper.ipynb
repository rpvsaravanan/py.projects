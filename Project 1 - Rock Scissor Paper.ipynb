{
 "cells": [
  {
   "cell_type": "markdown",
   "metadata": {},
   "source": [
    "### Project 1 - Rock/Scissor/Paper"
   ]
  },
  {
   "cell_type": "code",
   "execution_count": 1,
   "metadata": {},
   "outputs": [
    {
     "name": "stdout",
     "output_type": "stream",
     "text": [
      "Number of games you want to play: 1\n",
      "Enter your input: rock\n",
      "System Input:  scissor\n",
      "You win!\n",
      "\n",
      "Total Number of games: 1\n",
      "tie 0\n",
      "User points: 1\n",
      "System Points: 0\n",
      "\n",
      "USER wins the game !!! Congrats !!!!\n"
     ]
    }
   ],
   "source": [
    "import random\n",
    "\n",
    "# getting input from the user\n",
    "gamenum = int(input(\"Number of games you want to play: \"))\n",
    "\n",
    "system = [\"rock\",\"paper\",\"scissor\"]\n",
    "\n",
    "#counter variable \n",
    "a = 1\n",
    "tie = 0\n",
    "win = 0\n",
    "lose = 0\n",
    "\n",
    "# loop for number of games\n",
    "while (a <= gamenum):\n",
    "\n",
    "        user = input(\"Enter your input: \")    \n",
    "        sys=random.choice(system)\n",
    "        print(\"System Input: \",sys)\n",
    "\n",
    "#Logic for rock/paper/scissor        \n",
    "        \n",
    "        if user == sys:\n",
    "\n",
    "            print(\"tie\")\n",
    "\n",
    "            tie = tie + 1\n",
    "\n",
    "        elif user == \"rock\" and sys == \"scissor\":\n",
    "\n",
    "            print(\"You win!\")\n",
    "            win = win + 1\n",
    "\n",
    "        elif user == \"rock\" and sys == \"paper\":\n",
    "\n",
    "            print(\"You lose\")  \n",
    "            lose = lose + 1\n",
    "\n",
    "        elif user == \"paper\" and sys == \"scissor\":\n",
    "\n",
    "            print(\"You lose\")\n",
    "            lose = lose + 1\n",
    "\n",
    "        elif user == \"paper\" and sys == \"rock\":\n",
    "\n",
    "            print(\"You win!\")   \n",
    "            win = win + 1\n",
    "\n",
    "        elif user == \"scissor\" and sys == \"rock\":\n",
    "\n",
    "            print(\"You lose\")\n",
    "            lose = lose + 1\n",
    "\n",
    "        elif user == \"scissor\" and sys == \"paper\":\n",
    "\n",
    "            print(\"You win!\")     \n",
    "            win = win + 1\n",
    "\n",
    "        a = a + 1\n",
    "\n",
    "#Printing the Output\n",
    "print()\n",
    "print(\"Total Number of games:\", gamenum)        \n",
    "print(\"tie\",tie)\n",
    "print(\"User points:\",win)\n",
    "print(\"System Points:\",lose)\n",
    "print()\n",
    "\n",
    "# Final Summary\n",
    "if win > lose:\n",
    "    print (\"USER wins the game !!! Congrats !!!!\")\n",
    "elif lose > win:\n",
    "    print (\"SYSTEM wins the game !!! Congrats !!!!\")   \n",
    "else:\n",
    "    print(\"It's a TIE\")"
   ]
  }
 ],
 "metadata": {
  "kernelspec": {
   "display_name": "Python 3",
   "language": "python",
   "name": "python3"
  },
  "language_info": {
   "codemirror_mode": {
    "name": "ipython",
    "version": 3
   },
   "file_extension": ".py",
   "mimetype": "text/x-python",
   "name": "python",
   "nbconvert_exporter": "python",
   "pygments_lexer": "ipython3",
   "version": "3.7.4"
  }
 },
 "nbformat": 4,
 "nbformat_minor": 2
}
